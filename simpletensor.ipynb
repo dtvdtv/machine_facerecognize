{
 "cells": [
  {
   "cell_type": "code",
   "execution_count": 8,
   "metadata": {},
   "outputs": [],
   "source": [
    "import tensorflow.compat.v1 as tf\n",
    "\n",
    "with tf.Session() as sess:\n",
    "  x = tf.placeholder( tf.float32, [None, 784] )\n",
    "#import tensorflow as tf\n",
    "#a=tf.placeholder(tf.int32)\n",
    "#b=tf.placeholder(tf.int32)\n",
    "#add=a+b\n",
    "#sess=tf.Session()\n",
    "#print(sess.run(add,feed_dict{a:3,b:4}))\n",
    "#print(sess.run(add,feed_dict{a:[1,2],b:[3,4]}))\n",
    "#print(sess.run(add,feed_dict{a:[[1,2],[3,4]],b:[[1,2],[3,4]]}))"
   ]
  },
  {
   "cell_type": "code",
   "execution_count": null,
   "metadata": {},
   "outputs": [],
   "source": []
  }
 ],
 "metadata": {
  "kernelspec": {
   "display_name": "Python 3",
   "language": "python",
   "name": "python3"
  },
  "language_info": {
   "codemirror_mode": {
    "name": "ipython",
    "version": 3
   },
   "file_extension": ".py",
   "mimetype": "text/x-python",
   "name": "python",
   "nbconvert_exporter": "python",
   "pygments_lexer": "ipython3",
   "version": "3.6.10"
  }
 },
 "nbformat": 4,
 "nbformat_minor": 4
}
