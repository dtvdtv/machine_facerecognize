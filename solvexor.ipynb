{
 "cells": [
  {
   "cell_type": "code",
   "execution_count": 2,
   "metadata": {},
   "outputs": [
    {
     "ename": "AttributeError",
     "evalue": "module 'tensorflow' has no attribute 'reset_default_graph'",
     "output_type": "error",
     "traceback": [
      "\u001b[1;31m---------------------------------------------------------------------------\u001b[0m",
      "\u001b[1;31mAttributeError\u001b[0m                            Traceback (most recent call last)",
      "\u001b[1;32m<ipython-input-2-6e60a6d2b4e4>\u001b[0m in \u001b[0;36m<module>\u001b[1;34m\u001b[0m\n\u001b[0;32m      3\u001b[0m \u001b[1;33m\u001b[0m\u001b[0m\n\u001b[0;32m      4\u001b[0m \u001b[1;31m# 랜덤 시드를 고정시켜서 수행시마다 달라지는 학습 결과를 동일하게 함.\u001b[0m\u001b[1;33m\u001b[0m\u001b[1;33m\u001b[0m\u001b[1;33m\u001b[0m\u001b[0m\n\u001b[1;32m----> 5\u001b[1;33m \u001b[0mtf\u001b[0m\u001b[1;33m.\u001b[0m\u001b[0mreset_default_graph\u001b[0m\u001b[1;33m(\u001b[0m\u001b[1;33m)\u001b[0m\u001b[1;33m\u001b[0m\u001b[1;33m\u001b[0m\u001b[0m\n\u001b[0m\u001b[0;32m      6\u001b[0m \u001b[0mtf\u001b[0m\u001b[1;33m.\u001b[0m\u001b[0mset_random_seed\u001b[0m\u001b[1;33m(\u001b[0m\u001b[1;36m777\u001b[0m\u001b[1;33m)\u001b[0m\u001b[1;33m\u001b[0m\u001b[1;33m\u001b[0m\u001b[0m\n\u001b[0;32m      7\u001b[0m \u001b[1;31m# 학습을 위한 설정값\u001b[0m\u001b[1;33m\u001b[0m\u001b[1;33m\u001b[0m\u001b[1;33m\u001b[0m\u001b[0m\n",
      "\u001b[1;31mAttributeError\u001b[0m: module 'tensorflow' has no attribute 'reset_default_graph'"
     ]
    }
   ],
   "source": [
    "import tensorflow as tf\n",
    "import numpy as np\n",
    "\n",
    "# 랜덤 시드를 고정시켜서 수행시마다 달라지는 학습 결과를 동일하게 함.\n",
    "tf.reset_default_graph()\n",
    "tf.set_random_seed(777)\n",
    "# 학습을 위한 설정값\n",
    "learning_rate = 0.1\n",
    "training_cnt = 10000\n",
    "\n",
    "# 학습에 사용될 XOR 데이터\n",
    "# X 값이 같으면 0, 다르면 1\n",
    "train_X = np.array([[0, 0], [0, 1], [1, 0], [1, 1]])\n",
    "# 입력과 출력의 차원이 다를 수 있음.\n",
    "train_Y = np.array([[0], [1], [1], [0]])\n",
    "\n",
    "# 텐서플로우에 입력 데이터를 저장할 변수정의\n",
    "# x는 2차원\n",
    "X = tf.placeholder(tf.float32, [None, 2])\n",
    "# y는 1차원\n",
    "Y = tf.placeholder(tf.float32, [None, 1])\n",
    "\n",
    "# Layer 1\n",
    "# 초기 가중치와 편향을 랜덤하게 생성.\n",
    "# 다만 다음 레이어가 있기 때문에 2차원으로 출력하도록 설정.\n",
    "W1 = tf.Variable(tf.random_normal([2, 2]), name='weight1')\n",
    "b1 = tf.Variable(tf.random_normal([2]), name='bias1')\n",
    "# y값이 0 또는 1을 갖기 때문에 logistic regression, sigmoid 함수 사용.\n",
    "L1 = tf.sigmoid(tf.matmul(X, W1) + b1)\n",
    "\n",
    "# Layer 2 (은닉층)\n",
    "# 입력이 2차원이라 2, 출력은 1차원이라 1\n",
    "W2 = tf.Variable(tf.random_normal([2, 1]), name='weight2')\n",
    "b2 = tf.Variable(tf.random_normal([1]), name='bias2')\n",
    "pred = tf.sigmoid(tf.matmul(L1, W2) + b2)\n",
    "\n",
    "# 오차함수는 logistic regression 문제이기 때문에 cross entropy 함수 사용.\n",
    "cost = -tf.reduce_mean(Y * tf.log(pred) + (1 - Y) * tf.log(1 - pred))\n",
    "# 경사하강법으로 최적화\n",
    "optimizer = tf.train.GradientDescentOptimizer(learning_rate)\n",
    "op_train = optimizer.minimize(cost)\n",
    "\n",
    "# 0~1 사이 출력값을 0과 1로 분류함.\n",
    "predicted = tf.cast(pred > 0.5, dtype=tf.float32)\n",
    "accuracy = tf.reduce_mean(tf.cast(tf.equal(predicted, Y), dtype=tf.float32))\n",
    "\n",
    "# 텐서플로우 초기화\n",
    "sess = tf.Session()\n",
    "init = tf.global_variables_initializer()\n",
    "sess.run(init)\n",
    "\n",
    "# 반복학습 부분.\n",
    "for step in range(training_cnt):\n",
    "    sess.run(op_train, feed_dict={X: train_X, Y: train_Y})\n",
    "    if step % 1000 == 0:\n",
    "        print(step, sess.run(cost, feed_dict={X: train_X, Y: train_Y}), sess.run([W1, W2]))\n",
    "\n",
    "p, c, a = sess.run([pred, predicted, accuracy], feed_dict={X: train_X, Y: train_Y})\n",
    "print(\"\\nPred: \", p, \"\\nPredicted: \", c, \"\\nAccuracy: \", a)"
   ]
  },
  {
   "cell_type": "code",
   "execution_count": null,
   "metadata": {},
   "outputs": [],
   "source": []
  }
 ],
 "metadata": {
  "kernelspec": {
   "display_name": "Python 3",
   "language": "python",
   "name": "python3"
  },
  "language_info": {
   "codemirror_mode": {
    "name": "ipython",
    "version": 3
   },
   "file_extension": ".py",
   "mimetype": "text/x-python",
   "name": "python",
   "nbconvert_exporter": "python",
   "pygments_lexer": "ipython3",
   "version": "3.6.10"
  }
 },
 "nbformat": 4,
 "nbformat_minor": 4
}
